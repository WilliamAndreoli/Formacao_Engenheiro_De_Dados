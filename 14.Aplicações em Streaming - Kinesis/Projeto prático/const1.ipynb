{
  "nbformat": 4,
  "nbformat_minor": 0,
  "metadata": {
    "colab": {
      "provenance": []
    },
    "kernelspec": {
      "name": "python3",
      "display_name": "Python 3"
    },
    "language_info": {
      "name": "python"
    }
  },
  "cells": [
    {
      "cell_type": "markdown",
      "source": [
        "Consumidor"
      ],
      "metadata": {
        "id": "bedc2bIPUa06"
      }
    },
    {
      "cell_type": "code",
      "execution_count": null,
      "metadata": {
        "id": "n6a4RscuT2V9"
      },
      "outputs": [],
      "source": [
        "!pip install boto3"
      ]
    },
    {
      "cell_type": "code",
      "source": [
        "import boto3\n",
        "\n",
        "from google.colab import userdata\n",
        "\n",
        "aws_access_key_id=userdata.get('aws_id')\n",
        "aws_secret_access=userdata.get('aws_secret')\n",
        "\n",
        "# Criar cliente do boto3 para o Kinesis\n",
        "cliente = boto3.client('kinesis',aws_access_key_id=aws_access_key_id,\n",
        "                       aws_secret_access_key=aws_secret_access,region_name='us-east-2')\n",
        "\n",
        "shard = cliente.get_shard_iterator(StreamName='stream1',\n",
        "                                 ShardId='shardId-000000000002',\n",
        "                                 ShardIteratorType='LATEST')[\"ShardIterator\"]\n",
        "\n",
        "while shard is not None:\n",
        "  resultado = cliente.get_records(ShardIterator=shard)\n",
        "\n",
        "  registros = resultado['Records']\n",
        "\n",
        "  shard = resultado[\"NextShardIterator\"]\n",
        "\n",
        "  for registro in registros:\n",
        "    print(registro['SequenceNumber'])\n",
        "    print(registro['ApproximateArrivalTimestamp'])\n",
        "    print(registro['PartitionKey'])\n",
        "    print(registro['Data'])"
      ],
      "metadata": {
        "colab": {
          "base_uri": "https://localhost:8080/"
        },
        "id": "sVBu30fBVPbL",
        "outputId": "c935efcb-de0d-4628-9558-587bfb456a26"
      },
      "execution_count": null,
      "outputs": [
        {
          "output_type": "stream",
          "name": "stdout",
          "text": [
            "49656670756140331895180381144089680542237062899737559074\n",
            "2024-10-11 21:07:03.088000+00:00\n",
            "02\n",
            "b'{\"idvendedor\": \"991\", \"nome\": \"Ana\"}'\n",
            "49656670756140331895180381144090889468056678216107032610\n",
            "2024-10-11 21:07:13.723000+00:00\n",
            "02\n",
            "b'{\"idvendedor\": \"991\", \"nome\": \"Ana\"}'\n",
            "49656670756140331895180381144092098393876293326318075938\n",
            "2024-10-11 21:07:20.971000+00:00\n",
            "02\n",
            "b'{\"idvendedor\": \"990\", \"nome\": \"Jaison\"}'\n"
          ]
        }
      ]
    }
  ]
}