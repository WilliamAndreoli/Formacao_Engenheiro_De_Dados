{
  "nbformat": 4,
  "nbformat_minor": 0,
  "metadata": {
    "colab": {
      "provenance": []
    },
    "kernelspec": {
      "name": "python3",
      "display_name": "Python 3"
    },
    "language_info": {
      "name": "python"
    }
  },
  "cells": [
    {
      "cell_type": "markdown",
      "source": [
        "Produtor"
      ],
      "metadata": {
        "id": "-nipXK3VUfN8"
      }
    },
    {
      "cell_type": "code",
      "execution_count": null,
      "metadata": {
        "collapsed": true,
        "id": "NXr85miuUU81"
      },
      "outputs": [],
      "source": [
        "!pip install boto3"
      ]
    },
    {
      "cell_type": "code",
      "source": [
        "import boto3\n",
        "import json\n",
        "\n",
        "from google.colab import userdata\n",
        "\n",
        "aws_access_key_id=userdata.get('aws_id')\n",
        "aws_secret_access=userdata.get('aws_secret')\n",
        "\n",
        "# Criar cliente do boto3 para o Kinesis\n",
        "cliente = boto3.client('kinesis',aws_access_key_id=aws_access_key_id,\n",
        "                       aws_secret_access_key=aws_secret_access,region_name='us-east-2')\n",
        "\n",
        "# Dados que vão ser serializados\n",
        "registro = { 'idvendedor' : '990', 'nome' : 'Jaison' }\n",
        "\n",
        "resposta = cliente.put_record(\n",
        "          StreamName='stream1',\n",
        "          Data = json.dumps(registro),\n",
        "          PartitionKey='02' # Forma de dividir os bytes em diferentes shards\n",
        "        )\n",
        "\n",
        "print(resposta)"
      ],
      "metadata": {
        "colab": {
          "base_uri": "https://localhost:8080/"
        },
        "id": "S8RCzIsuVGm7",
        "outputId": "f2efed9d-43a5-40ef-b2fc-f786f0ea19e8"
      },
      "execution_count": 11,
      "outputs": [
        {
          "output_type": "stream",
          "name": "stdout",
          "text": [
            "{'ShardId': 'shardId-000000000002', 'SequenceNumber': '49656670756140331895180381144092098393876293326318075938', 'ResponseMetadata': {'RequestId': 'd4a8e706-0435-a79d-8b2b-72cee32aba2e', 'HTTPStatusCode': 200, 'HTTPHeaders': {'x-amzn-requestid': 'd4a8e706-0435-a79d-8b2b-72cee32aba2e', 'x-amz-id-2': 'DYpH47c4fb91CY9nHRI2qNBPVYGzv0J6IfTDm9Lcz8261sdbnpdnZIfKIt1/HmFuY5eDJQInTvRx7o5EClkiMXMFrUPE+RT45c7UCUbexOE=', 'date': 'Fri, 11 Oct 2024 21:07:20 GMT', 'content-type': 'application/x-amz-json-1.1', 'content-length': '110', 'connection': 'keep-alive'}, 'RetryAttempts': 0}}\n"
          ]
        }
      ]
    }
  ]
}