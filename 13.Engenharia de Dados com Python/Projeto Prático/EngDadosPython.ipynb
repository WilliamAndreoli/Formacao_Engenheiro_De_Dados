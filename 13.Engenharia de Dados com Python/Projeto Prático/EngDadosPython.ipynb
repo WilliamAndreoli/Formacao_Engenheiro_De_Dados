{
  "nbformat": 4,
  "nbformat_minor": 0,
  "metadata": {
    "colab": {
      "provenance": []
    },
    "kernelspec": {
      "name": "python3",
      "display_name": "Python 3"
    },
    "language_info": {
      "name": "python"
    }
  },
  "cells": [
    {
      "cell_type": "markdown",
      "source": [
        "Engenharia de Dados com Python\n"
      ],
      "metadata": {
        "id": "D2aBmnE_5tFk"
      }
    },
    {
      "cell_type": "code",
      "execution_count": null,
      "metadata": {
        "id": "1EISCHve5nnc"
      },
      "outputs": [],
      "source": [
        "# Criando Banco de Dados no RDS\n",
        "import psycopg2 as pg2\n",
        "from google.colab import userdata\n",
        "user = userdata.get('postgreUser')\n",
        "password = userdata.get('postgrePassword')\n",
        "con = pg2.connect(host=\"database-1.c5eueywouwye.us-east-1.rds.amazonaws.com\",database=\"postgres\",\n",
        "                  user=\"postgreUser\",password=\"postgrePassword\")\n",
        "con.autocommit = True\n",
        "# cursor para fazer consultas ao banco de dados\n",
        "cur = con.cursor()\n",
        "cur.execute('create database inventario')\n",
        "con.close()"
      ]
    },
    {
      "cell_type": "code",
      "source": [
        "# Criando Tabela\n",
        "from google.colab import userdata\n",
        "user = userdata.get('postgreUser')\n",
        "password = userdata.get('postgrePassword')\n",
        "con = pg2.connect(host=\"database-1.c5eueywouwye.us-east-1.rds.amazonaws.com\",database=\"inventario\",\n",
        "                  user=\"postgreUser\",password=\"postgrePassword\")\n",
        "con.autocommit = True\n",
        "# cursor para fazer consultas ao banco de dados\n",
        "cur = con.cursor()\n",
        "cur.execute('create table arquivos (idarquivo INT, nomearquivo VARCHAR(256));')\n",
        "con.close()"
      ],
      "metadata": {
        "id": "NDoGfEECA2pT"
      },
      "execution_count": null,
      "outputs": []
    },
    {
      "cell_type": "code",
      "source": [
        "#Instalando o boto3\n",
        "!pip install boto3"
      ],
      "metadata": {
        "colab": {
          "base_uri": "https://localhost:8080/"
        },
        "id": "f1B7AOBbBUrx",
        "outputId": "81f78ec9-f008-46dc-85ed-cc0152957dc3"
      },
      "execution_count": null,
      "outputs": [
        {
          "output_type": "stream",
          "name": "stdout",
          "text": [
            "Collecting boto3\n",
            "  Downloading boto3-1.35.38-py3-none-any.whl.metadata (6.7 kB)\n",
            "Collecting botocore<1.36.0,>=1.35.38 (from boto3)\n",
            "  Downloading botocore-1.35.38-py3-none-any.whl.metadata (5.7 kB)\n",
            "Collecting jmespath<2.0.0,>=0.7.1 (from boto3)\n",
            "  Downloading jmespath-1.0.1-py3-none-any.whl.metadata (7.6 kB)\n",
            "Collecting s3transfer<0.11.0,>=0.10.0 (from boto3)\n",
            "  Downloading s3transfer-0.10.3-py3-none-any.whl.metadata (1.7 kB)\n",
            "Requirement already satisfied: python-dateutil<3.0.0,>=2.1 in /usr/local/lib/python3.10/dist-packages (from botocore<1.36.0,>=1.35.38->boto3) (2.8.2)\n",
            "Requirement already satisfied: urllib3!=2.2.0,<3,>=1.25.4 in /usr/local/lib/python3.10/dist-packages (from botocore<1.36.0,>=1.35.38->boto3) (2.2.3)\n",
            "Requirement already satisfied: six>=1.5 in /usr/local/lib/python3.10/dist-packages (from python-dateutil<3.0.0,>=2.1->botocore<1.36.0,>=1.35.38->boto3) (1.16.0)\n",
            "Downloading boto3-1.35.38-py3-none-any.whl (139 kB)\n",
            "\u001b[2K   \u001b[90m━━━━━━━━━━━━━━━━━━━━━━━━━━━━━━━━━━━━━━━━\u001b[0m \u001b[32m139.1/139.1 kB\u001b[0m \u001b[31m3.2 MB/s\u001b[0m eta \u001b[36m0:00:00\u001b[0m\n",
            "\u001b[?25hDownloading botocore-1.35.38-py3-none-any.whl (12.6 MB)\n",
            "\u001b[2K   \u001b[90m━━━━━━━━━━━━━━━━━━━━━━━━━━━━━━━━━━━━━━━━\u001b[0m \u001b[32m12.6/12.6 MB\u001b[0m \u001b[31m72.0 MB/s\u001b[0m eta \u001b[36m0:00:00\u001b[0m\n",
            "\u001b[?25hDownloading jmespath-1.0.1-py3-none-any.whl (20 kB)\n",
            "Downloading s3transfer-0.10.3-py3-none-any.whl (82 kB)\n",
            "\u001b[2K   \u001b[90m━━━━━━━━━━━━━━━━━━━━━━━━━━━━━━━━━━━━━━━━\u001b[0m \u001b[32m82.6/82.6 kB\u001b[0m \u001b[31m5.8 MB/s\u001b[0m eta \u001b[36m0:00:00\u001b[0m\n",
            "\u001b[?25hInstalling collected packages: jmespath, botocore, s3transfer, boto3\n",
            "Successfully installed boto3-1.35.38 botocore-1.35.38 jmespath-1.0.1 s3transfer-0.10.3\n"
          ]
        }
      ]
    },
    {
      "cell_type": "code",
      "source": [
        "# Ler objetos do Bucket S3\n",
        "import boto3\n",
        "import io\n",
        "import psycopg2\n",
        "from google.colab import userdata\n",
        "user = userdata.get('postgreUser')\n",
        "password = userdata.get('postgrePassword')\n",
        "\n",
        "aws_id = userdata.get('aws_id')\n",
        "aws_secret = userdata.get('aws_secret')\n",
        "\n",
        "s3 = boto3.resource(\n",
        "  service_name='s3',\n",
        "  region_name='us-east-1',\n",
        "  aws_access_key_id = aws_id,\n",
        "  aws_secret_access_key = aws_secret\n",
        ")\n",
        "\n",
        "bucket = 'engdadospythonwill'\n",
        "prefix = 'imagens/'\n",
        "\n",
        "con = pg2.connect(host=\"database-1.c5eueywouwye.us-east-1.rds.amazonaws.com\",database=\"inventario\",\n",
        "                  user=\"postgreUser\",password=\"postgrePassword\")\n",
        "con.autocommit = True\n",
        "cur = con.cursor()\n",
        "id = 0\n",
        "\n",
        "for objects_s3 in s3.Bucket(bucket).objects.filter(Prefix=prefix):\n",
        "  if objects_s3.key.endswith('jpg') or objects_s3.key.endswith('JPG'):\n",
        "    filename = objects_s3.key.split('/')[1]\n",
        "    #print(filename)\n",
        "    # insere os objetos no banco de dados\n",
        "    id += 1\n",
        "    cur.execute(\"insert into arquivos (idarquivo,nomearquivo) values (\" +str(id)+ \",'\" +filename + \"')\")\n",
        "\n",
        "con.close()"
      ],
      "metadata": {
        "id": "ayqL3mhKBkpg"
      },
      "execution_count": null,
      "outputs": []
    },
    {
      "cell_type": "code",
      "source": [
        "# Lendo tabela pra conferir\n",
        "import psycopg2 as pg2\n",
        "from google.colab import userdata\n",
        "user = userdata.get('postgreUser')\n",
        "password = userdata.get('postgrePassword')\n",
        "\n",
        "con = pg2.connect(host=\"database-1.c5eueywouwye.us-east-1.rds.amazonaws.com\",database=\"inventario\",\n",
        "                  user=\"postgreUser\",password=\"postgrePassword\")\n",
        "con.autocommit = True\n",
        "# cursor para fazer consultas ao banco de dados\n",
        "cur = con.cursor()\n",
        "cur.execute('select * from arquivos;')\n",
        "\n",
        "recset = cur.fetchall()\n",
        "\n",
        "for rec in recset:\n",
        "  print(rec)\n",
        "\n",
        "con.close()"
      ],
      "metadata": {
        "colab": {
          "base_uri": "https://localhost:8080/"
        },
        "id": "Odussm3yD4g5",
        "outputId": "3f30f693-098e-466b-eba7-9fe0be86f461"
      },
      "execution_count": null,
      "outputs": [
        {
          "output_type": "stream",
          "name": "stdout",
          "text": [
            "(1, 'avenue-g9ad8b9b60_640.jpg')\n",
            "(2, 'dandelion-ge4c90edd8_640.jpg')\n",
            "(3, 'fantasy-g95f970a56_640.jpg')\n",
            "(4, 'garden-g42e486784_640.jpg')\n",
            "(5, 'pink-ge82d54651_640.jpg')\n",
            "(6, 'road-g37132565b_640.jpg')\n",
            "(7, 'road-g41ea28d46_640.jpg')\n",
            "(8, 'sunset-gac16749a1_640.jpg')\n",
            "(9, 'tree-g386d6021c_640.jpg')\n",
            "(10, 'tree-gd34ff2fcb_640.jpg')\n"
          ]
        }
      ]
    }
  ]
}