{
  "nbformat": 4,
  "nbformat_minor": 0,
  "metadata": {
    "colab": {
      "provenance": []
    },
    "kernelspec": {
      "name": "python3",
      "display_name": "Python 3"
    },
    "language_info": {
      "name": "python"
    }
  },
  "cells": [
    {
      "cell_type": "code",
      "execution_count": null,
      "metadata": {
        "id": "w74t4Grpgpe4"
      },
      "outputs": [],
      "source": [
        "!pip install boto3"
      ]
    },
    {
      "cell_type": "code",
      "source": [
        "import boto3\n",
        "import json\n",
        "import time\n",
        "from random import uniform\n",
        "from datetime import datetime\n",
        "from google.colab import userdata\n",
        "\n",
        "# Obtenção das credenciais da AWS\n",
        "aws_access_key_id = userdata.get('aws_id')\n",
        "aws_secret_access_key = userdata.get('aws_secret')\n",
        "\n",
        "# Criar cliente boto3 para o Kinesis\n",
        "cliente = boto3.client(\n",
        "    'kinesis',\n",
        "    aws_access_key_id=aws_access_key_id,\n",
        "    aws_secret_access_key=aws_secret_access_key,\n",
        "    region_name='us-east-2'\n",
        ")\n",
        "\n",
        "id = 0\n",
        "\n",
        "while True:\n",
        "    data = uniform(0.7,1)\n",
        "    id +=1\n",
        "\n",
        "    # Dados do Power Factor\n",
        "    registro = {\n",
        "        'id': str(id),\n",
        "        'data': str(data),\n",
        "        'type': 'powerfactor',\n",
        "        'timestamp': str(datetime.now())\n",
        "    }\n",
        "\n",
        "    # Envia o registro para o stream Kinesis\n",
        "    resposta = cliente.put_record(\n",
        "        StreamName='windstream',\n",
        "        Data=json.dumps(registro),\n",
        "        PartitionKey='02'  # Forma de dividir os bytes em diferentes shards\n",
        "    )\n",
        "\n",
        "    # Exibe a resposta do envio\n",
        "    print(resposta)\n",
        "\n",
        "    # Espera 10 segundos antes de gerar outro registro\n",
        "    time.sleep(10)\n"
      ],
      "metadata": {
        "colab": {
          "base_uri": "https://localhost:8080/",
          "height": 265
        },
        "id": "qeFwXHCUiHY2",
        "outputId": "12b20c6d-e125-418e-ec65-fc191ef9fabe"
      },
      "execution_count": 16,
      "outputs": [
        {
          "output_type": "stream",
          "name": "stdout",
          "text": [
            "{'ShardId': 'shardId-000000000002', 'SequenceNumber': '49656851557380360423942683816950010791745856046509326370', 'ResponseMetadata': {'RequestId': 'c645e2b1-381b-ea8f-99ce-b6e3e301766a', 'HTTPStatusCode': 200, 'HTTPHeaders': {'x-amzn-requestid': 'c645e2b1-381b-ea8f-99ce-b6e3e301766a', 'x-amz-id-2': 'hoV3GIMgRD+/pyYXtvEOnwktnZKKOehsbfJ071lDWFqVymstV1da0A75XsepYNDwAFckt+F9SNrMQqPGZtNZoEMPN0hjc0sF', 'date': 'Thu, 17 Oct 2024 18:06:10 GMT', 'content-type': 'application/x-amz-json-1.1', 'content-length': '110', 'connection': 'keep-alive'}, 'RetryAttempts': 0}}\n",
            "{'ShardId': 'shardId-000000000002', 'SequenceNumber': '49656851557380360423942683816953637569204700621228212258', 'ResponseMetadata': {'RequestId': 'ea04dd84-a3c4-3ab6-b58f-89d97e2263eb', 'HTTPStatusCode': 200, 'HTTPHeaders': {'x-amzn-requestid': 'ea04dd84-a3c4-3ab6-b58f-89d97e2263eb', 'x-amz-id-2': 'Np8OTGDC2Za/4wfMx7/5IPBFMTPlYHfgRx1LX6ig0LSdWWAF7W1tbp+jMUWp5AHU7n5HeDKBH71Y8P5bVQerabY6kswJtPza2wacBruIPRI=', 'date': 'Thu, 17 Oct 2024 18:06:21 GMT', 'content-type': 'application/x-amz-json-1.1', 'content-length': '110', 'connection': 'keep-alive'}, 'RetryAttempts': 0}}\n",
            "{'ShardId': 'shardId-000000000002', 'SequenceNumber': '49656851557380360423942683816957264346663545264666574882', 'ResponseMetadata': {'RequestId': 'dc4f2222-bc89-5124-83c4-764a9e51a698', 'HTTPStatusCode': 200, 'HTTPHeaders': {'x-amzn-requestid': 'dc4f2222-bc89-5124-83c4-764a9e51a698', 'x-amz-id-2': 'Q6kTgnJ8V94Q4SpMDwovsW0JKgCOqOp2aF+ELw5M45NgRBLEcc2qd/3xeeyiQNHzyxaXcdNCOISIqBKWhYvsgMEmLdwibBh1UBQY3syRBSQ=', 'date': 'Thu, 17 Oct 2024 18:06:32 GMT', 'content-type': 'application/x-amz-json-1.1', 'content-length': '110', 'connection': 'keep-alive'}, 'RetryAttempts': 0}}\n",
            "{'ShardId': 'shardId-000000000002', 'SequenceNumber': '49656851557380360423942683816960891124122389908104937506', 'ResponseMetadata': {'RequestId': 'cfef6733-54fa-d049-9064-3341ca3e9de3', 'HTTPStatusCode': 200, 'HTTPHeaders': {'x-amzn-requestid': 'cfef6733-54fa-d049-9064-3341ca3e9de3', 'x-amz-id-2': 'xXvs7LTKBzBHwJRqnadUGABmSOH3ZUgFZxZ6pSrlqNI4KEX8gLZEMQmAhWLPOF8J0Lt6vkZ8Il6hZ5GpSNuWgFjBWbnnfoKH', 'date': 'Thu, 17 Oct 2024 18:06:42 GMT', 'content-type': 'application/x-amz-json-1.1', 'content-length': '110', 'connection': 'keep-alive'}, 'RetryAttempts': 0}}\n"
          ]
        },
        {
          "output_type": "error",
          "ename": "KeyboardInterrupt",
          "evalue": "",
          "traceback": [
            "\u001b[0;31m---------------------------------------------------------------------------\u001b[0m",
            "\u001b[0;31mKeyboardInterrupt\u001b[0m                         Traceback (most recent call last)",
            "\u001b[0;32m<ipython-input-16-4ee5af9d417e>\u001b[0m in \u001b[0;36m<cell line: 20>\u001b[0;34m()\u001b[0m\n\u001b[1;32m     41\u001b[0m \u001b[0;34m\u001b[0m\u001b[0m\n\u001b[1;32m     42\u001b[0m     \u001b[0;31m# Espera 10 segundos antes de gerar outro registro\u001b[0m\u001b[0;34m\u001b[0m\u001b[0;34m\u001b[0m\u001b[0m\n\u001b[0;32m---> 43\u001b[0;31m     \u001b[0mtime\u001b[0m\u001b[0;34m.\u001b[0m\u001b[0msleep\u001b[0m\u001b[0;34m(\u001b[0m\u001b[0;36m10\u001b[0m\u001b[0;34m)\u001b[0m\u001b[0;34m\u001b[0m\u001b[0;34m\u001b[0m\u001b[0m\n\u001b[0m",
            "\u001b[0;31mKeyboardInterrupt\u001b[0m: "
          ]
        }
      ]
    }
  ]
}