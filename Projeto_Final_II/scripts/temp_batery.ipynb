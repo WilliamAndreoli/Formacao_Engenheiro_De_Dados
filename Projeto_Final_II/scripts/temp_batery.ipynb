{
  "nbformat": 4,
  "nbformat_minor": 0,
  "metadata": {
    "colab": {
      "provenance": []
    },
    "kernelspec": {
      "name": "python3",
      "display_name": "Python 3"
    },
    "language_info": {
      "name": "python"
    }
  },
  "cells": [
    {
      "cell_type": "code",
      "source": [
        "!pip install boto3"
      ],
      "metadata": {
        "id": "jHBbCKHIpP-C"
      },
      "execution_count": null,
      "outputs": []
    },
    {
      "cell_type": "code",
      "execution_count": 3,
      "metadata": {
        "colab": {
          "base_uri": "https://localhost:8080/",
          "height": 369
        },
        "id": "sQ2QReFvgs9Y",
        "outputId": "194e75b3-38e6-4c5b-b822-98e0383c6f03"
      },
      "outputs": [
        {
          "output_type": "stream",
          "name": "stdout",
          "text": [
            "19\n",
            "{'ShardId': 'shardId-000000000002', 'SequenceNumber': '49656851557380360423942683816948801865926241211176189986', 'ResponseMetadata': {'RequestId': 'dcb8b15a-ca8a-e5d2-8333-e50a15a8dea3', 'HTTPStatusCode': 200, 'HTTPHeaders': {'x-amzn-requestid': 'dcb8b15a-ca8a-e5d2-8333-e50a15a8dea3', 'x-amz-id-2': 'HiNWkt/P7xOsC2ZYQM7heA/IXY6jGcIG0xA9DSzg7JDqIU9hPoPfBM3QlvKwdG+dwZnAXRt6f8W+jxYV50bdSvIbDQgHXXghO6eEj7FbCE4=', 'date': 'Thu, 17 Oct 2024 18:06:08 GMT', 'content-type': 'application/x-amz-json-1.1', 'content-length': '110', 'connection': 'keep-alive'}, 'RetryAttempts': 0}}\n",
            "23\n",
            "{'ShardId': 'shardId-000000000002', 'SequenceNumber': '49656851557380360423942683816952428643385085785895075874', 'ResponseMetadata': {'RequestId': 'd18b9a47-7a11-2e66-8e00-ce1df66deb48', 'HTTPStatusCode': 200, 'HTTPHeaders': {'x-amzn-requestid': 'd18b9a47-7a11-2e66-8e00-ce1df66deb48', 'x-amz-id-2': 'f9V225bx/IiiRWSN8DgJseiOKMNc9LDNGlxfGw7PfXpoQNur9EBsjrZOMBHASrOhMxbRfryptgqwtMYc0gf6kqfV3SUSad+E', 'date': 'Thu, 17 Oct 2024 18:06:18 GMT', 'content-type': 'application/x-amz-json-1.1', 'content-length': '110', 'connection': 'keep-alive'}, 'RetryAttempts': 0}}\n",
            "20\n",
            "{'ShardId': 'shardId-000000000002', 'SequenceNumber': '49656851557380360423942683816956055420843930360613961762', 'ResponseMetadata': {'RequestId': 'f412a4ca-c657-c6d8-ab99-f0ae5f087d02', 'HTTPStatusCode': 200, 'HTTPHeaders': {'x-amzn-requestid': 'f412a4ca-c657-c6d8-ab99-f0ae5f087d02', 'x-amz-id-2': 'EQXNXcvKyyrywE9De8yUq6VMFEfRI06kF4eZfFJKQJ15t3z/RiCrKypnAk4hLoDev/3DK/gNL5EboxIrYIe01mcV1oHDqxD3zZVe2VtuAlg=', 'date': 'Thu, 17 Oct 2024 18:06:28 GMT', 'content-type': 'application/x-amz-json-1.1', 'content-length': '110', 'connection': 'keep-alive'}, 'RetryAttempts': 0}}\n",
            "22\n",
            "{'ShardId': 'shardId-000000000002', 'SequenceNumber': '49656851557380360423942683816959682198302775004052324386', 'ResponseMetadata': {'RequestId': 'e9b2477f-9082-ec7d-b639-13119f8b6a5c', 'HTTPStatusCode': 200, 'HTTPHeaders': {'x-amzn-requestid': 'e9b2477f-9082-ec7d-b639-13119f8b6a5c', 'x-amz-id-2': 'IBGzE/6WVzNLrWzw74dCh/5RDDhDGLksVx9IYMSuKtw9zyD2lczt3E0+UuzF8lkCGLhMy20MuyQOnrOpOGz+lAtlQBKfhlK4', 'date': 'Thu, 17 Oct 2024 18:06:38 GMT', 'content-type': 'application/x-amz-json-1.1', 'content-length': '110', 'connection': 'keep-alive'}, 'RetryAttempts': 0}}\n",
            "19\n",
            "{'ShardId': 'shardId-000000000002', 'SequenceNumber': '49656851557380360423942683816963308975761619578771210274', 'ResponseMetadata': {'RequestId': 'e5b6dd9a-001f-8939-ba3d-89e395dff4e0', 'HTTPStatusCode': 200, 'HTTPHeaders': {'x-amzn-requestid': 'e5b6dd9a-001f-8939-ba3d-89e395dff4e0', 'x-amz-id-2': '3QlVO1QbSge8sWFRxd35klesQ6oEEx8cTHvMoLvWOB6GxvaRXWdg3dl6RLF5J0Vk3MkogFXlGfVIQe12P42mJ6EbfH4ZnOEh6OuasjWmSGY=', 'date': 'Thu, 17 Oct 2024 18:06:49 GMT', 'content-type': 'application/x-amz-json-1.1', 'content-length': '110', 'connection': 'keep-alive'}, 'RetryAttempts': 0}}\n"
          ]
        },
        {
          "output_type": "error",
          "ename": "KeyboardInterrupt",
          "evalue": "",
          "traceback": [
            "\u001b[0;31m---------------------------------------------------------------------------\u001b[0m",
            "\u001b[0;31mKeyboardInterrupt\u001b[0m                         Traceback (most recent call last)",
            "\u001b[0;32m<ipython-input-3-9beac55197d3>\u001b[0m in \u001b[0;36m<cell line: 20>\u001b[0;34m()\u001b[0m\n\u001b[1;32m     43\u001b[0m \u001b[0;34m\u001b[0m\u001b[0m\n\u001b[1;32m     44\u001b[0m     \u001b[0;31m# Espera 10 segundos antes de gerar outro registro\u001b[0m\u001b[0;34m\u001b[0m\u001b[0;34m\u001b[0m\u001b[0m\n\u001b[0;32m---> 45\u001b[0;31m     \u001b[0mtime\u001b[0m\u001b[0;34m.\u001b[0m\u001b[0msleep\u001b[0m\u001b[0;34m(\u001b[0m\u001b[0;36m10\u001b[0m\u001b[0;34m)\u001b[0m\u001b[0;34m\u001b[0m\u001b[0;34m\u001b[0m\u001b[0m\n\u001b[0m",
            "\u001b[0;31mKeyboardInterrupt\u001b[0m: "
          ]
        }
      ],
      "source": [
        "import boto3\n",
        "import json\n",
        "from random import uniform\n",
        "import time\n",
        "from datetime import datetime\n",
        "from google.colab import userdata\n",
        "\n",
        "# Obtenção das credenciais da AWS\n",
        "aws_access_key_id = userdata.get('aws_id')\n",
        "aws_secret_access_key = userdata.get('aws_secret')\n",
        "\n",
        "# Criar cliente boto3 para o Kinesis\n",
        "cliente = boto3.client(\n",
        "    'kinesis',\n",
        "    aws_access_key_id=aws_access_key_id,\n",
        "    aws_secret_access_key=aws_secret_access_key,\n",
        "    region_name='us-east-2'\n",
        ")\n",
        "\n",
        "id = 0\n",
        "\n",
        "while True:\n",
        "    data = uniform(20,25)\n",
        "    id +=1\n",
        "\n",
        "    # Dados da Battery\n",
        "    registro = {\n",
        "        'id': str(id),\n",
        "        'data': str(data),\n",
        "        'type': 'temperature',\n",
        "        'timestamp': str(datetime.now())\n",
        "    }\n",
        "\n",
        "    # Envia o registro para o stream Kinesis\n",
        "    resposta = cliente.put_record(\n",
        "        StreamName='windstream',\n",
        "        Data=json.dumps(registro),\n",
        "        PartitionKey='02'  # Forma de dividir os bytes em diferentes shards\n",
        "    )\n",
        "\n",
        "    # Exibe a resposta do envio\n",
        "    print(resposta)\n",
        "\n",
        "    # Espera 10 segundos antes de gerar outro registro\n",
        "    time.sleep(10)\n"
      ]
    }
  ]
}