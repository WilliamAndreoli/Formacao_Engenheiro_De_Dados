{
  "nbformat": 4,
  "nbformat_minor": 0,
  "metadata": {
    "colab": {
      "provenance": []
    },
    "kernelspec": {
      "name": "python3",
      "display_name": "Python 3"
    },
    "language_info": {
      "name": "python"
    }
  },
  "cells": [
    {
      "cell_type": "code",
      "source": [
        "!pip install boto3"
      ],
      "metadata": {
        "id": "HSmdnIyTpyfD"
      },
      "execution_count": null,
      "outputs": []
    },
    {
      "cell_type": "code",
      "execution_count": 2,
      "metadata": {
        "colab": {
          "base_uri": "https://localhost:8080/",
          "height": 404
        },
        "id": "bcwL-RLZgzqL",
        "outputId": "6c80fe6b-68ad-47a4-856a-c35332d692f4"
      },
      "outputs": [
        {
          "output_type": "stream",
          "name": "stdout",
          "text": [
            "78\n",
            "{'ShardId': 'shardId-000000000002', 'SequenceNumber': '49656851557380360423942683816947592940106626375843053602', 'ResponseMetadata': {'RequestId': 'c0f2d1f1-571a-b166-9f79-85bda333514f', 'HTTPStatusCode': 200, 'HTTPHeaders': {'x-amzn-requestid': 'c0f2d1f1-571a-b166-9f79-85bda333514f', 'x-amz-id-2': 'Ci4G6palZAvNXueNcInrBydlgE0RV77KYvIEo+SmHNg5MJAIt2E9FAELoVoEr8dgiaecKhTwLawXDjnUIIz4vzYLlaBt/xFI', 'date': 'Thu, 17 Oct 2024 18:06:04 GMT', 'content-type': 'application/x-amz-json-1.1', 'content-length': '110', 'connection': 'keep-alive'}, 'RetryAttempts': 0}}\n",
            "74\n",
            "{'ShardId': 'shardId-000000000002', 'SequenceNumber': '49656851557380360423942683816951219717565470950561939490', 'ResponseMetadata': {'RequestId': 'e3131328-6d14-d019-bc98-477f2f930a46', 'HTTPStatusCode': 200, 'HTTPHeaders': {'x-amzn-requestid': 'e3131328-6d14-d019-bc98-477f2f930a46', 'x-amz-id-2': '9pf8kKbl3fU4bLlYYsSjx4ITQ29lEL7Ok9stfIZ5vkbuD4cAOcE7Jqbg6IbJ7MJf3YY004L7+m+q5ZaTlNY+CdtzS7e+RoxWiH+pW7NS/wA=', 'date': 'Thu, 17 Oct 2024 18:06:15 GMT', 'content-type': 'application/x-amz-json-1.1', 'content-length': '110', 'connection': 'keep-alive'}, 'RetryAttempts': 0}}\n",
            "74\n",
            "{'ShardId': 'shardId-000000000002', 'SequenceNumber': '49656851557380360423942683816954846495024315525280825378', 'ResponseMetadata': {'RequestId': 'c458e7e5-afd6-8065-9bd3-b384e820a7ce', 'HTTPStatusCode': 200, 'HTTPHeaders': {'x-amzn-requestid': 'c458e7e5-afd6-8065-9bd3-b384e820a7ce', 'x-amz-id-2': 'mUcc6qmDTlNdSnMEx7wyk16ykezVRstCgjv/DOgDmV1P0ZhCbyJwFbBN+NbUOj6Xq+KGCxE3K/Zv+C5b+Mum0lPmdoiCeh7g', 'date': 'Thu, 17 Oct 2024 18:06:25 GMT', 'content-type': 'application/x-amz-json-1.1', 'content-length': '110', 'connection': 'keep-alive'}, 'RetryAttempts': 0}}\n",
            "74\n",
            "{'ShardId': 'shardId-000000000002', 'SequenceNumber': '49656851557380360423942683816958473272483160168719188002', 'ResponseMetadata': {'RequestId': 'd7fce8ee-5e36-2d80-8877-bc85506e41fe', 'HTTPStatusCode': 200, 'HTTPHeaders': {'x-amzn-requestid': 'd7fce8ee-5e36-2d80-8877-bc85506e41fe', 'x-amz-id-2': '+bmg5Fr5rkgcOcfEqLhLqqocZNBYIb7S/ZFogmGhrDncGvWb7ML0AhYKLJ1KTDlT9PZEDiiKPD6bcsREOOOsloEv94sv48Rl', 'date': 'Thu, 17 Oct 2024 18:06:35 GMT', 'content-type': 'application/x-amz-json-1.1', 'content-length': '110', 'connection': 'keep-alive'}, 'RetryAttempts': 0}}\n",
            "75\n",
            "{'ShardId': 'shardId-000000000002', 'SequenceNumber': '49656851557380360423942683816962100049942004743438073890', 'ResponseMetadata': {'RequestId': 'f0264216-ad91-bc4b-afad-1663c58b7aed', 'HTTPStatusCode': 200, 'HTTPHeaders': {'x-amzn-requestid': 'f0264216-ad91-bc4b-afad-1663c58b7aed', 'x-amz-id-2': 'n5lpnr6j/dSD+rLYS6r2rCBxVafEbCXd88mCtJYvg5l4yRhnQ89YRVMKhMHx70Pz12h0nb6nyBZT6E3oTUgmFx87G2vwT/Rv', 'date': 'Thu, 17 Oct 2024 18:06:45 GMT', 'content-type': 'application/x-amz-json-1.1', 'content-length': '110', 'connection': 'keep-alive'}, 'RetryAttempts': 0}}\n",
            "78\n",
            "{'ShardId': 'shardId-000000000002', 'SequenceNumber': '49656851557380360423942683816964517901581234688982253602', 'ResponseMetadata': {'RequestId': 'e7c06bbb-db5b-49ef-b84b-3f3b0b49b7b5', 'HTTPStatusCode': 200, 'HTTPHeaders': {'x-amzn-requestid': 'e7c06bbb-db5b-49ef-b84b-3f3b0b49b7b5', 'x-amz-id-2': '2huOBZ8kCJXxrW+NoXHBdqkOwlkmFZsJB+anaRfJ/KMw95jtN2qoN8eEM5OkcoptXn03DT2thCRJUD8IGayGN76KwCR1Vwvn8mP5s2FDy6w=', 'date': 'Thu, 17 Oct 2024 18:06:56 GMT', 'content-type': 'application/x-amz-json-1.1', 'content-length': '110', 'connection': 'keep-alive'}, 'RetryAttempts': 0}}\n"
          ]
        },
        {
          "output_type": "error",
          "ename": "KeyboardInterrupt",
          "evalue": "",
          "traceback": [
            "\u001b[0;31m---------------------------------------------------------------------------\u001b[0m",
            "\u001b[0;31mKeyboardInterrupt\u001b[0m                         Traceback (most recent call last)",
            "\u001b[0;32m<ipython-input-2-b1aaef1068db>\u001b[0m in \u001b[0;36m<cell line: 20>\u001b[0;34m()\u001b[0m\n\u001b[1;32m     42\u001b[0m \u001b[0;34m\u001b[0m\u001b[0m\n\u001b[1;32m     43\u001b[0m     \u001b[0;31m# Espera 10 segundos antes de gerar outro registro\u001b[0m\u001b[0;34m\u001b[0m\u001b[0;34m\u001b[0m\u001b[0m\n\u001b[0;32m---> 44\u001b[0;31m     \u001b[0mtime\u001b[0m\u001b[0;34m.\u001b[0m\u001b[0msleep\u001b[0m\u001b[0;34m(\u001b[0m\u001b[0;36m10\u001b[0m\u001b[0;34m)\u001b[0m\u001b[0;34m\u001b[0m\u001b[0;34m\u001b[0m\u001b[0m\n\u001b[0m",
            "\u001b[0;31mKeyboardInterrupt\u001b[0m: "
          ]
        }
      ],
      "source": [
        "import boto3\n",
        "import json\n",
        "import time\n",
        "from random import uniform\n",
        "from datetime import datetime\n",
        "from google.colab import userdata\n",
        "\n",
        "# Obtenção das credenciais da AWS\n",
        "aws_access_key_id = userdata.get('aws_id')\n",
        "aws_secret_access_key = userdata.get('aws_secret')\n",
        "\n",
        "# Criar cliente boto3 para o Kinesis\n",
        "cliente = boto3.client(\n",
        "    'kinesis',\n",
        "    aws_access_key_id=aws_access_key_id,\n",
        "    aws_secret_access_key=aws_secret_access_key,\n",
        "    region_name='us-east-2'\n",
        ")\n",
        "\n",
        "while True:\n",
        "    data = uniform(70,80)\n",
        "    id +=1\n",
        "\n",
        "    # Dados do Power Factor\n",
        "    registro = {\n",
        "        'id': str(id),\n",
        "        'data': str(data),\n",
        "        'type': 'hydraulicpressure',\n",
        "        'timestamp': str(datetime.now())\n",
        "    }\n",
        "\n",
        "    # Envia o registro para o stream Kinesis\n",
        "    resposta = cliente.put_record(\n",
        "        StreamName='windstream',\n",
        "        Data=json.dumps(registro),\n",
        "        PartitionKey='02'  # Forma de dividir os bytes em diferentes shards\n",
        "    )\n",
        "\n",
        "    # Exibe a resposta do envio\n",
        "    print(resposta)\n",
        "\n",
        "    # Espera 10 segundos antes de gerar outro registro\n",
        "    time.sleep(10)\n"
      ]
    }
  ]
}